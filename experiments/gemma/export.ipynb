{
 "cells": [
  {
   "cell_type": "code",
   "execution_count": 1,
   "id": "ba233488",
   "metadata": {},
   "outputs": [],
   "source": [
    "import pandas as pd\n",
    "import numpy as np\n",
    "import PandaSQLite as psql"
   ]
  },
  {
   "cell_type": "code",
   "execution_count": null,
   "id": "9b6f97c1",
   "metadata": {},
   "outputs": [],
   "source": [
    "db = psql.PandaSQLiteDB('gemma_answers.sql')"
   ]
  },
  {
   "cell_type": "code",
   "execution_count": null,
   "id": "d2909916",
   "metadata": {},
   "outputs": [],
   "source": [
    "db.show_tables()"
   ]
  },
  {
   "cell_type": "code",
   "execution_count": null,
   "id": "b4850d7d",
   "metadata": {},
   "outputs": [],
   "source": [
    "t = db.get_table(\"google_gemma_3_27b_it_answers\")\n",
    "# Save t to a xlsx file\n",
    "t.to_csv(\"google_gemma_3_27b_it_answers.csv\", index=False)"
   ]
  }
 ],
 "metadata": {
  "kernelspec": {
   "display_name": "Python 3",
   "language": "python",
   "name": "python3"
  },
  "language_info": {
   "codemirror_mode": {
    "name": "ipython",
    "version": 3
   },
   "file_extension": ".py",
   "mimetype": "text/x-python",
   "name": "python",
   "nbconvert_exporter": "python",
   "pygments_lexer": "ipython3",
   "version": "3.12.9"
  }
 },
 "nbformat": 4,
 "nbformat_minor": 5
}
