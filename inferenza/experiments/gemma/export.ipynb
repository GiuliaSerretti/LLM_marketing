{
 "cells": [
  {
   "cell_type": "code",
   "execution_count": 1,
   "id": "ba233488",
   "metadata": {},
   "outputs": [],
   "source": [
    "import pandas as pd\n",
    "import numpy as np\n",
    "import PandaSQLite as psql"
   ]
  },
  {
   "cell_type": "code",
   "execution_count": 2,
   "id": "9b6f97c1",
   "metadata": {},
   "outputs": [],
   "source": [
    "db = psql.PandaSQLiteDB('gemma_answers.sql')"
   ]
  },
  {
   "cell_type": "code",
   "execution_count": 3,
   "id": "d2909916",
   "metadata": {},
   "outputs": [
    {
     "data": {
      "text/html": [
       "<div>\n",
       "<style scoped>\n",
       "    .dataframe tbody tr th:only-of-type {\n",
       "        vertical-align: middle;\n",
       "    }\n",
       "\n",
       "    .dataframe tbody tr th {\n",
       "        vertical-align: top;\n",
       "    }\n",
       "\n",
       "    .dataframe thead th {\n",
       "        text-align: right;\n",
       "    }\n",
       "</style>\n",
       "<table border=\"1\" class=\"dataframe\">\n",
       "  <thead>\n",
       "    <tr style=\"text-align: right;\">\n",
       "      <th></th>\n",
       "      <th>name</th>\n",
       "    </tr>\n",
       "  </thead>\n",
       "  <tbody>\n",
       "    <tr>\n",
       "      <th>0</th>\n",
       "      <td>google_gemma_3_27b_it_answers</td>\n",
       "    </tr>\n",
       "  </tbody>\n",
       "</table>\n",
       "</div>"
      ],
      "text/plain": [
       "                            name\n",
       "0  google_gemma_3_27b_it_answers"
      ]
     },
     "execution_count": 3,
     "metadata": {},
     "output_type": "execute_result"
    }
   ],
   "source": [
    "db.show_tables()"
   ]
  },
  {
   "cell_type": "code",
   "execution_count": 4,
   "id": "b4850d7d",
   "metadata": {},
   "outputs": [],
   "source": [
    "t = db.get_table(\"google_gemma_3_27b_it_answers\")\n",
    "# Save t to a xlsx file\n",
    "t.to_csv(\"google_gemma_3_27b_it_answers.csv\", index=False)"
   ]
  }
 ],
 "metadata": {
  "kernelspec": {
   "display_name": "Python 3",
   "language": "python",
   "name": "python3"
  },
  "language_info": {
   "codemirror_mode": {
    "name": "ipython",
    "version": 3
   },
   "file_extension": ".py",
   "mimetype": "text/x-python",
   "name": "python",
   "nbconvert_exporter": "python",
   "pygments_lexer": "ipython3",
   "version": "3.12.9"
  }
 },
 "nbformat": 4,
 "nbformat_minor": 5
}
